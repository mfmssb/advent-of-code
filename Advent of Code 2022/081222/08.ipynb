{
 "cells": [
  {
   "cell_type": "code",
   "execution_count": null,
   "metadata": {},
   "outputs": [],
   "source": [
    "f = open(\"data.txt\", \"r\")\n",
    "datastr = f.read()\n",
    "grid = datastr.split(\"\\n\")\n",
    "\n",
    "H = len(grid)    # width\n",
    "W = len(grid[0]) # height\n",
    "\n",
    "N_EDGE = 2*W + 2*H - 4 # number of trees on edge\n",
    "DIRS = [\"North\", \"East\", \"South\", \"West\"]"
   ]
  },
  {
   "cell_type": "code",
   "execution_count": null,
   "metadata": {},
   "outputs": [],
   "source": [
    "def set_direction(direction):\n",
    "    if   direction == \"North\": (vx, vy) = (0, -1)\n",
    "    elif direction == \"East\":  (vx, vy) = (1, 0)\n",
    "    elif direction == \"South\": (vx, vy) = (0, 1)\n",
    "    elif direction == \"West\":  (vx, vy) = (-1, 0)\n",
    "    else:\n",
    "        (vx, vy) = (None, None)\n",
    "        print(\"ERROR direction\")\n",
    "    return (vx, vy)\n",
    "\n",
    "def is_in_line_of_sight(x,y,direction):\n",
    "    tree_height = int(grid[y][x])\n",
    "\n",
    "    (vx, vy) = set_direction(direction)\n",
    "\n",
    "    while (x > 0 and x < W-1 and y > 0 and y < H-1):\n",
    "        x += vx\n",
    "        y += vy\n",
    "        if int(grid[y][x]) >= tree_height:\n",
    "            return False\n",
    "\n",
    "    return True"
   ]
  },
  {
   "cell_type": "code",
   "execution_count": null,
   "metadata": {},
   "outputs": [],
   "source": [
    "# check all trees in the interior\n",
    "# notation: grid[y][x]\n",
    "\n",
    "interior_visible_trees = 0\n",
    "for y in range(1, H-1):\n",
    "    for x in range(1, W-1):\n",
    "        for d in DIRS:\n",
    "            if is_in_line_of_sight(x,y,d):\n",
    "                interior_visible_trees += 1\n",
    "                break          \n",
    "\n",
    "tot = N_EDGE + interior_visible_trees\n",
    "print(f'There are totally {tot} visible trees.')"
   ]
  },
  {
   "cell_type": "markdown",
   "metadata": {},
   "source": [
    "### Part 2"
   ]
  },
  {
   "cell_type": "code",
   "execution_count": null,
   "metadata": {},
   "outputs": [],
   "source": [
    "def number_of_visible_trees(x,y,direction):\n",
    "    tree_height = int(grid[y][x])\n",
    "\n",
    "    (vx, vy) = set_direction(direction)\n",
    "\n",
    "    num = 0\n",
    "    while (x > 0 and x < W-1 and y > 0 and y < H-1):\n",
    "        x += vx\n",
    "        y += vy\n",
    "        num += 1\n",
    "        if int(grid[y][x]) >= tree_height:\n",
    "            break\n",
    "    return num\n",
    "\n",
    "def calculate_scenic_score(x,y):\n",
    "    score = 1\n",
    "    for d in DIRS:\n",
    "        score *= number_of_visible_trees(x,y,d)\n",
    "    return score"
   ]
  },
  {
   "cell_type": "code",
   "execution_count": null,
   "metadata": {},
   "outputs": [],
   "source": [
    "best_view = 0\n",
    "for y in range(1, H-1):\n",
    "    for x in range(1, W-1):\n",
    "        s = calculate_scenic_score(x,y)\n",
    "        if s > best_view:\n",
    "            best_view = s\n",
    "\n",
    "print(f'The best possible scenic score is {best_view}.')"
   ]
  }
 ],
 "metadata": {
  "kernelspec": {
   "display_name": "Python 3.10.7 64-bit",
   "language": "python",
   "name": "python3"
  },
  "language_info": {
   "codemirror_mode": {
    "name": "ipython",
    "version": 3
   },
   "file_extension": ".py",
   "mimetype": "text/x-python",
   "name": "python",
   "nbconvert_exporter": "python",
   "pygments_lexer": "ipython3",
   "version": "3.10.7"
  },
  "orig_nbformat": 4,
  "vscode": {
   "interpreter": {
    "hash": "44ae8641566cfcc506e9d9143b9f629f8fc7cc283ee141e7f3380a3e4f4f7d2b"
   }
  }
 },
 "nbformat": 4,
 "nbformat_minor": 2
}

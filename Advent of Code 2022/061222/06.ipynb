{
 "cells": [
  {
   "cell_type": "code",
   "execution_count": null,
   "metadata": {},
   "outputs": [],
   "source": [
    "f = open(\"data.txt\", \"r\")\n",
    "datastr = f.read()\n",
    "\n",
    "def contain_no_repeats(s):\n",
    "    for i in range(len(s)-1):\n",
    "        for j in range(i+1,len(s)):\n",
    "            if s[i] == s[j]:\n",
    "                return False\n",
    "    return True\n",
    "\n",
    "def first_start_of_msg_marker_of_size_n(n):\n",
    "    for i in range(n,len(datastr)+1):\n",
    "        if contain_no_repeats(datastr[i-n:i]):\n",
    "            print(i, i-n, datastr[i-n:i])\n",
    "            break\n",
    "\n",
    "print(first_start_of_msg_marker_of_size_n(4))\n",
    "print(first_start_of_msg_marker_of_size_n(14))"
   ]
  },
  {
   "cell_type": "code",
   "execution_count": null,
   "metadata": {},
   "outputs": [],
   "source": []
  }
 ],
 "metadata": {
  "language_info": {
   "codemirror_mode": {
    "name": "ipython"
   },
   "file_extension": ".py",
   "mimetype": "text/x-python",
   "name": "python",
   "nbconvert_exporter": "python"
  },
  "vscode": {
   "interpreter": {
    "hash": "44ae8641566cfcc506e9d9143b9f629f8fc7cc283ee141e7f3380a3e4f4f7d2b"
   }
  }
 },
 "nbformat": 4,
 "nbformat_minor": 2
}

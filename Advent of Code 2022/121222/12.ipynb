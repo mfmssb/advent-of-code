{
 "cells": [
  {
   "cell_type": "code",
   "execution_count": null,
   "metadata": {},
   "outputs": [],
   "source": [
    "f = open(\"data.txt\", \"r\")\n",
    "datastr = f.read()\n",
    "datalines = datastr.split(\"\\n\")\n"
   ]
  },
  {
   "cell_type": "code",
   "execution_count": null,
   "metadata": {},
   "outputs": [],
   "source": [
    "height_grid = []\n",
    "for y in datalines:\n",
    "    height_grid.append(list(y))\n",
    "\n",
    "def create_grid(w, h, val):\n",
    "    eg = []\n",
    "    for j in range(h):\n",
    "        eg.append([val] * w)\n",
    "    return eg\n",
    "\n",
    "H = len(datalines)\n",
    "W = len(datalines[0])\n",
    "INFINITY = 9999\n",
    "\n",
    "score_grid = create_grid(W,H,INFINITY)\n",
    "\n",
    "dir_dict = {0: [0, -1], 1: [1, 0], 2: [0, 1], 3: [-1, 0]}"
   ]
  },
  {
   "cell_type": "code",
   "execution_count": null,
   "metadata": {},
   "outputs": [],
   "source": [
    "def locate_start_end_points():\n",
    "    sx, sy, ex, ey = -1, -1, -1, -1\n",
    "    for i, l in enumerate(datalines):\n",
    "        x = l.find(\"S\")\n",
    "        if x != -1:\n",
    "            sy = i\n",
    "            sx = x\n",
    "\n",
    "    for i, l in enumerate(datalines):\n",
    "        x = l.find(\"E\")\n",
    "        if x != -1:\n",
    "            ey = i\n",
    "            ex = x\n",
    "    return sx, sy, ex, ey\n",
    "(START_X, START_Y, END_X, END_Y) = locate_start_end_points()"
   ]
  },
  {
   "cell_type": "code",
   "execution_count": null,
   "metadata": {},
   "outputs": [],
   "source": [
    "def step_value(letter_on, letter_side):\n",
    "    HEIGHT_ORDER = \"abcdefghijklmnopqrstuvwxyz\" # S for start, \n",
    "    if len(letter_on) != 1 or len(letter_side) != 1:\n",
    "        print(\"Error legal step\")\n",
    "        return False\n",
    "    if letter_side == \"S\": # Start has height a\n",
    "        letter_side = \"a\"\n",
    "    if letter_side == \"E\": # End has height z\n",
    "        letter_side = \"z\"\n",
    "    i_on = HEIGHT_ORDER.find(letter_on)\n",
    "    i_side = HEIGHT_ORDER.find(letter_side)\n",
    "\n",
    "    return i_side - i_on"
   ]
  },
  {
   "cell_type": "code",
   "execution_count": null,
   "metadata": {},
   "outputs": [],
   "source": [
    "def probe_neighbours(grid, cx, cy):\n",
    "    if cy-1 >= 0:\n",
    "        north = grid[cy-1][cx]\n",
    "    else:\n",
    "        north = None\n",
    "    if cy+1 < len(grid):\n",
    "        south = grid[cy+1][cx]\n",
    "    else:\n",
    "        south = None\n",
    "    if cx-1 >= 0:\n",
    "        west = grid[cy][cx-1]\n",
    "    else:\n",
    "        west = None\n",
    "    if cx+1 < len(grid[0]):\n",
    "        east = grid[cy][cx+1]\n",
    "    else:\n",
    "        east = None\n",
    "    return (north, east, south, west)"
   ]
  },
  {
   "cell_type": "code",
   "execution_count": null,
   "metadata": {},
   "outputs": [],
   "source": [
    "# def Dijkstra(Graph, source):\n",
    "    \n",
    "#     for each v in Graph.Vertices: # vertex = node\n",
    "#         dist[v] ← INFINITY               # array that contains the current distances from the source to other vertices\n",
    "#         prev[v] ← UNDEFINED              \n",
    "#         add v to Q\n",
    "#     dist[source] ← 0\n",
    "    \n",
    "#     while Q is not empty:\n",
    "#         u ← vertex in Q with min dist[u]\n",
    "#         remove u from Q\n",
    "        \n",
    "#         for each neighbor v of u still in Q:\n",
    "#             alt ← dist[u] + Graph.Edges(u, v)\n",
    "#             if alt < dist[v]:\n",
    "#                 dist[v] ← alt\n",
    "#                 prev[v] ← u\n",
    "#     return dist[], prev[]"
   ]
  },
  {
   "cell_type": "code",
   "execution_count": null,
   "metadata": {},
   "outputs": [],
   "source": [
    "# S ← empty sequence\n",
    "# u ← target\n",
    "# if prev[u] is defined or u = source:          # Do something only if the vertex is reachable\n",
    "#     while u is defined:                       # Construct the shortest path with a stack S\n",
    "#         insert u at the beginning of S        # Push the vertex onto the stack\n",
    "#         u ← prev[u]                           # Traverse from target to source"
   ]
  },
  {
   "cell_type": "code",
   "execution_count": null,
   "metadata": {},
   "outputs": [],
   "source": [
    "# # Step 2\n",
    "# nx = START_X\n",
    "# ny = START_Y\n",
    "# score_grid[ny][nx] = 0\n",
    "# visited = create_grid(W,H,-1)\n",
    "\n",
    "# counter = 0\n",
    "# while(counter < H*W):\n",
    "#     counter += 1\n",
    "#     # Step 3\n",
    "\n",
    "#     # legal nodes: return values: (North, East, South, West)\n",
    "#     neighbour_scores = probe_neighbours(score_grid, nx, ny)\n",
    "\n",
    "#     # fill score values around current node\n",
    "#     for i in range(4):\n",
    "#         if neighbour_scores[i] != None:\n",
    "#             v = dir_dict[i]\n",
    "#             if step_value(height_grid[ny][nx], height_grid[ny+v[1]][nx+v[0]]) <= 1: # step is legal\n",
    "#                 new_val = score_grid[ny][nx] + 1\n",
    "#                 old_val = score_grid[ny+v[1]][nx+v[0]]\n",
    "#                 if new_val < old_val:\n",
    "#                     score_grid[ny+v[1]][nx+v[0]] = new_val\n",
    "\n",
    "#     # Step 4)\n",
    "#     visited[ny][nx] = 1\n",
    "\n",
    "#     # Step 5) \n",
    "#     neighbour_visited = probe_neighbours(visited, nx, ny)\n",
    "#     neighbour_scores = probe_neighbours(score_grid, nx, ny)\n",
    "\n",
    "#     # found_new_cell = False\n",
    "#     # for i in range(4):\n",
    "#     #     if neighbour_visited[i] != None and neighbour_visited[i] != 1 and neighbour_scores[i] < INFINITY: \n",
    "#     #         v = dir_dict[i]\n",
    "#     #         nx += v[0]\n",
    "#     #         ny += v[1]\n",
    "#     #         found_new_cell = True   \n",
    "#     #         break\n",
    "\n",
    "#     smallest = INFINITY\n",
    "#     sx, sy = -1, -1\n",
    "#     for i in range(W):\n",
    "#         for j in range(H):\n",
    "#             if score_grid[j][i] < INFINITY and visited[j][i] == -1 and score_grid[j][i] < smallest:\n",
    "#                 smallest = score_grid[j][i]\n",
    "#                 sx, sy = i, j\n",
    "#     nx, ny = sx, sy\n",
    "\n",
    "#     if nx == END_X and ny == END_Y:\n",
    "#         break\n",
    "#     print(\"--\"*50)\n",
    "#     for l in score_grid:\n",
    "#         print(l[(nx-3):nx+3])\n",
    "#     print(\"--\"*50)\n",
    "    \n"
   ]
  },
  {
   "cell_type": "code",
   "execution_count": null,
   "metadata": {},
   "outputs": [],
   "source": [
    "nx = START_X\n",
    "ny = START_Y\n",
    "score_grid[ny][nx] = 0\n",
    "visited = create_grid(W,H,-1)"
   ]
  },
  {
   "cell_type": "code",
   "execution_count": null,
   "metadata": {},
   "outputs": [],
   "source": [
    "counter = 0\n",
    "while(counter < H*W):\n",
    "    counter += 1\n",
    "    neighbours_scores = probe_neighbours(score_grid,nx,ny)\n",
    "    for i in range(len(neighbours_scores)):\n",
    "        if neighbours_scores[i] != None:\n",
    "            [vx,vy] = dir_dict[i]\n",
    "            x = nx + vx\n",
    "            y = ny + vy\n",
    "            letter_on = height_grid[ny][nx]\n",
    "            letter_side = height_grid[y][x]\n",
    "            if step_value(letter_on, letter_side) <= 1 and score_grid[y][x] > score_grid[ny][nx] + 1:\n",
    "                score_grid[y][x] = score_grid[ny][nx] + 1\n",
    "    \n",
    "    visited[ny][nx] = 1\n",
    "\n",
    "    smallest = INFINITY\n",
    "    sx, sy = -1, -1\n",
    "\n",
    "    for i in range(W):\n",
    "        for j in range(H):\n",
    "            if score_grid[j][i] < smallest and visited[j][i] == -1:\n",
    "                smallest = score_grid[j][i]\n",
    "                sx, sy = i, j\n",
    "    nx, ny = sx, sy"
   ]
  },
  {
   "cell_type": "code",
   "execution_count": null,
   "metadata": {},
   "outputs": [],
   "source": [
    "print(\"Shortest distance:\", score_grid[END_Y][END_X])"
   ]
  },
  {
   "cell_type": "code",
   "execution_count": null,
   "metadata": {},
   "outputs": [],
   "source": [
    "for i in range(W):\n",
    "    for j in range(H):\n",
    "        score_grid[j][i] = str(score_grid[j][i]) + \" \" * (4-len(str(score_grid[j][i])))\n",
    "\n",
    "for l in score_grid:\n",
    "    l = [str(x) for x in l]\n",
    "    \n",
    "    print(\"  \".join(l))\n",
    "counter += 1"
   ]
  },
  {
   "cell_type": "code",
   "execution_count": null,
   "metadata": {},
   "outputs": [],
   "source": [
    "height_grid[END_Y][END_X]"
   ]
  },
  {
   "cell_type": "code",
   "execution_count": null,
   "metadata": {},
   "outputs": [],
   "source": [
    "END_X, END_Y"
   ]
  },
  {
   "cell_type": "code",
   "execution_count": null,
   "metadata": {},
   "outputs": [],
   "source": []
  },
  {
   "cell_type": "code",
   "execution_count": null,
   "metadata": {},
   "outputs": [],
   "source": [
    "# 590 is too high 442 443"
   ]
  }
 ],
 "metadata": {
  "language_info": {
   "codemirror_mode": {
    "name": "ipython"
   },
   "file_extension": ".py",
   "mimetype": "text/x-python",
   "name": "python",
   "nbconvert_exporter": "python"
  },
  "vscode": {
   "interpreter": {
    "hash": "3322777fd1eb80d56631ff78795b66dccdf92205c0d7d33b33006785ae206b86"
   }
  }
 },
 "nbformat": 4,
 "nbformat_minor": 2
}

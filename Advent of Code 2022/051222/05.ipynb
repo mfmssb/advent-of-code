{
 "cells": [
  {
   "cell_type": "markdown",
   "metadata": {},
   "source": [
    "# Prep av indata\n"
   ]
  },
  {
   "cell_type": "code",
   "execution_count": null,
   "metadata": {},
   "outputs": [],
   "source": [
    "\n",
    "f = open(\"data.txt\", \"r\")\n",
    "datastr = f.read()\n",
    "indata_split = datastr.split(\" \\n\\n\")\n",
    "\n",
    "box_state = indata_split[0]\n",
    "move_data = indata_split[1]\n",
    "\n",
    "box_state_list = box_state.split(\"\\n\")\n",
    "boxes_height = len(box_state_list)\n",
    "boxes_turned = []\n",
    "\n",
    "for i in range(boxes_height):\n",
    "    boxes_turned.append(box_state_list[boxes_height - i - 1])\n",
    "boxes_width = len(boxes_turned[0].replace(\" \", \"\"))\n",
    "\n",
    "stacks = [[] for _ in range(boxes_width) ] # deklarerer tom tabell\n",
    "\n",
    "for i in range(boxes_width):\n",
    "    for j in range(boxes_height):\n",
    "        stacks[i].append(boxes_turned[j][4*i+1])\n",
    "\n",
    "for i in range(boxes_height):\n",
    "    # fjerner tomme elementer\n",
    "    stacks[i] = list(filter(lambda item: item != ' ', stacks[i]))"
   ]
  },
  {
   "cell_type": "code",
   "execution_count": null,
   "metadata": {},
   "outputs": [],
   "source": [
    "def remove_box_from_stack(number):\n",
    "    box_letter = stacks[number-1][-1]\n",
    "    del stacks[number-1][-1]\n",
    "    return box_letter\n",
    "\n",
    "def add_box_to_stack(box_letter, number):\n",
    "    stacks[number-1].append(box_letter)"
   ]
  },
  {
   "cell_type": "markdown",
   "metadata": {},
   "source": [
    "# Del 1"
   ]
  },
  {
   "cell_type": "code",
   "execution_count": null,
   "metadata": {},
   "outputs": [],
   "source": [
    "moves = move_data.split(\"\\n\")\n",
    "for move in moves:\n",
    "    # splitter opp teksten og konverterer strengtall til int\n",
    "    a = move.split(\" from \")\n",
    "    b = a[0].replace(\"move \", \"\")\n",
    "    c = a[1].split(\" to \")\n",
    "\n",
    "    number_of_boxes_to_move = int(b)\n",
    "    from_stack = int(c[0])\n",
    "    to_stack = int(c[1])\n",
    "\n",
    "    for i in range(number_of_boxes_to_move):\n",
    "        box_letter = remove_box_from_stack(from_stack)\n",
    "        add_box_to_stack(box_letter, to_stack)"
   ]
  },
  {
   "cell_type": "code",
   "execution_count": null,
   "metadata": {},
   "outputs": [],
   "source": [
    "solution1 = \"\"\n",
    "for stack in stacks:\n",
    "    solution1 += stack[-1]\n",
    "solution1"
   ]
  },
  {
   "cell_type": "markdown",
   "metadata": {},
   "source": [
    "# Prep igjen"
   ]
  },
  {
   "cell_type": "code",
   "execution_count": null,
   "metadata": {},
   "outputs": [],
   "source": [
    "f = open(\"data.txt\", \"r\")\n",
    "datastr = f.read()\n",
    "indata_split = datastr.split(\" \\n\\n\")\n",
    "\n",
    "box_state = indata_split[0]\n",
    "move_data = indata_split[1]\n",
    "\n",
    "box_state_list = box_state.split(\"\\n\")\n",
    "boxes_height = len(box_state_list)\n",
    "boxes_turned = []\n",
    "\n",
    "for i in range(boxes_height):\n",
    "    boxes_turned.append(box_state_list[boxes_height - i - 1])\n",
    "boxes_width = len(boxes_turned[0].replace(\" \", \"\"))\n",
    "\n",
    "stacks = [[] for _ in range(boxes_width) ] # deklarerer tom tabell\n",
    "\n",
    "for i in range(boxes_width):\n",
    "    for j in range(boxes_height):\n",
    "        stacks[i].append(boxes_turned[j][4*i+1])\n",
    "\n",
    "for i in range(boxes_height):\n",
    "    # fjerner tomme elementer\n",
    "    stacks[i] = list(filter(lambda item: item != ' ', stacks[i]))"
   ]
  },
  {
   "cell_type": "code",
   "execution_count": null,
   "metadata": {},
   "outputs": [],
   "source": [
    "def remove_boxes_from_stack(number_of_boxes_to_move, stack_number):\n",
    "    box_letters = \"\"\n",
    "    for i in range(number_of_boxes_to_move):\n",
    "        box_letters += remove_box_from_stack(stack_number)\n",
    "    box_letters = box_letters[::-1] # reverserer strengen\n",
    "    \n",
    "    return box_letters\n",
    "\n",
    "def add_boxes_to_stack(box_letters, stack_number):\n",
    "    for l in box_letters:\n",
    "        add_box_to_stack(l, stack_number)\n"
   ]
  },
  {
   "cell_type": "markdown",
   "metadata": {},
   "source": [
    "# Del 2"
   ]
  },
  {
   "cell_type": "code",
   "execution_count": null,
   "metadata": {},
   "outputs": [],
   "source": [
    "moves = move_data.split(\"\\n\")\n",
    "for move in moves:\n",
    "    # splitter opp teksten og konverterer strengtall til int\n",
    "    a = move.split(\" from \")\n",
    "    b = a[0].replace(\"move \", \"\")\n",
    "    c = a[1].split(\" to \")\n",
    "\n",
    "    number_of_boxes_to_move = int(b)\n",
    "    from_stack = int(c[0])\n",
    "    to_stack = int(c[1])\n",
    "\n",
    "    box_letters = remove_boxes_from_stack(number_of_boxes_to_move, from_stack)\n",
    "    add_boxes_to_stack(box_letters, to_stack)\n"
   ]
  },
  {
   "cell_type": "code",
   "execution_count": null,
   "metadata": {},
   "outputs": [],
   "source": [
    "solution2 = \"\"\n",
    "for stack in stacks:\n",
    "    solution2 += stack[-1]\n",
    "solution2"
   ]
  }
 ],
 "metadata": {
  "language_info": {
   "codemirror_mode": {
    "name": "ipython"
   },
   "file_extension": ".py",
   "mimetype": "text/x-python",
   "name": "python",
   "nbconvert_exporter": "python"
  },
  "vscode": {
   "interpreter": {
    "hash": "44ae8641566cfcc506e9d9143b9f629f8fc7cc283ee141e7f3380a3e4f4f7d2b"
   }
  }
 },
 "nbformat": 4,
 "nbformat_minor": 2
}

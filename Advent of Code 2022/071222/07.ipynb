{
 "cells": [
  {
   "cell_type": "code",
   "execution_count": 126,
   "metadata": {},
   "outputs": [],
   "source": [
    "f = open(\"test.txt\", \"r\")\n",
    "datastr = f.read()\n",
    "datalines = datastr.split(\"\\n\")\n"
   ]
  },
  {
   "cell_type": "code",
   "execution_count": 127,
   "metadata": {},
   "outputs": [],
   "source": [
    "folder_sizes_with_size_less_than_100000 = []\n",
    "\n",
    "class Folder:\n",
    "  def __init__(self, parent, name):\n",
    "    self.name = name\n",
    "    self.subfolders = []\n",
    "    self.parent = parent\n",
    "    self.files = []\n",
    "    self.files_size = 0\n",
    "    self.full_size = 0\n",
    "\n",
    "  def add_file(self, file):\n",
    "    # file given as string '13213 rdsa.dat'\n",
    "    for f in self.files:\n",
    "      if f == file:\n",
    "        return\n",
    "    s = file.split(\" \")[0]\n",
    "    self.files_size += int(s)\n",
    "    self.files.append(file)\n",
    "    return\n",
    "\n",
    "  def add_subfolder(self, foldername):\n",
    "    for folder in self.subfolders:\n",
    "      if folder.name == foldername:\n",
    "        return\n",
    "    self.subfolders.append(Folder(self, foldername)) # set self as parent\n",
    "    return\n",
    "\n",
    "  def calculate_total_size(self):\n",
    "    if len(self.subfolders) == 0:\n",
    "      self.full_size = self.files_size\n",
    "    for folder in self.subfolders:\n",
    "      self.full_size += folder.calculate_total_size()\n",
    "    return self.full_size\n",
    "\n",
    "  def check_size_of_subfolders(self):############################# IKEKE FERDGIH\n",
    "    # run after calculate_total_size\n",
    "    if len(self.subfolders == 0)\n",
    "\n",
    "  def print_subfolders(self):\n",
    "    for folder in self.subfolders:\n",
    "      print(folder.name)"
   ]
  },
  {
   "cell_type": "code",
   "execution_count": 128,
   "metadata": {},
   "outputs": [],
   "source": [
    "root = Folder(None, \"/\")\n",
    "current_folder = root"
   ]
  },
  {
   "cell_type": "code",
   "execution_count": 129,
   "metadata": {},
   "outputs": [],
   "source": [
    "for i in range(0,len(datalines)):\n",
    "    line = datalines[i].split(\" \")\n",
    "\n",
    "    # list directory\n",
    "    if line[0] == \"dir\":\n",
    "        current_folder.add_subfolder(line[1])\n",
    "\n",
    "    # list file\n",
    "    if line[0].isdigit():\n",
    "        current_folder.add_file(\" \".join(line))\n",
    "\n",
    "    # command mode\n",
    "    if line[0] == \"$\":\n",
    "        # ignore ls command\n",
    "        if line[1] == \"cd\":\n",
    "            if line[2] == \"/\":\n",
    "                current_folder = root\n",
    "            elif line[2] == \"..\":\n",
    "                if current_folder.parent == None:\n",
    "                    print(\"Error. This folder has no parent folder\", line[2], current_folder.name)\n",
    "                else:\n",
    "                    current_folder = current_folder.parent\n",
    "            else:\n",
    "                sf = line[2]\n",
    "                for subfolder in current_folder.subfolders:\n",
    "                    if subfolder.name == sf:\n",
    "                        current_folder = subfolder\n",
    "\n"
   ]
  },
  {
   "cell_type": "code",
   "execution_count": 130,
   "metadata": {},
   "outputs": [
    {
     "data": {
      "text/plain": [
       "1168"
      ]
     },
     "execution_count": 130,
     "metadata": {},
     "output_type": "execute_result"
    }
   ],
   "source": [
    "root.calculate_total_size()\n",
    "\n",
    "sum(folder_sizes_with_size_less_than_100000)"
   ]
  },
  {
   "cell_type": "code",
   "execution_count": 131,
   "metadata": {},
   "outputs": [
    {
     "data": {
      "text/plain": [
       "[584, 584]"
      ]
     },
     "execution_count": 131,
     "metadata": {},
     "output_type": "execute_result"
    }
   ],
   "source": [
    "folder_sizes_with_size_less_than_100000"
   ]
  },
  {
   "cell_type": "code",
   "execution_count": 135,
   "metadata": {},
   "outputs": [
    {
     "data": {
      "text/plain": [
       "94269"
      ]
     },
     "execution_count": 135,
     "metadata": {},
     "output_type": "execute_result"
    }
   ],
   "source": [
    "root.subfolders[0].files_size"
   ]
  }
 ],
 "metadata": {
  "kernelspec": {
   "display_name": "Python 3.10.7 64-bit",
   "language": "python",
   "name": "python3"
  },
  "language_info": {
   "codemirror_mode": {
    "name": "ipython",
    "version": 3
   },
   "file_extension": ".py",
   "mimetype": "text/x-python",
   "name": "python",
   "nbconvert_exporter": "python",
   "pygments_lexer": "ipython3",
   "version": "3.10.7"
  },
  "orig_nbformat": 4,
  "vscode": {
   "interpreter": {
    "hash": "44ae8641566cfcc506e9d9143b9f629f8fc7cc283ee141e7f3380a3e4f4f7d2b"
   }
  }
 },
 "nbformat": 4,
 "nbformat_minor": 2
}

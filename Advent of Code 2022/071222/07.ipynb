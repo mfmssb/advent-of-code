{
 "cells": [
  {
   "cell_type": "code",
   "execution_count": null,
   "metadata": {},
   "outputs": [],
   "source": [
    "f = open(\"data.txt\", \"r\")\n",
    "datastr = f.read()\n",
    "datalines = datastr.split(\"\\n\")\n"
   ]
  },
  {
   "cell_type": "code",
   "execution_count": null,
   "metadata": {},
   "outputs": [],
   "source": [
    "folder_sizes_with_size_less_than_100000 = []\n",
    "all_folder_sizes = []\n",
    "\n",
    "class Folder:\n",
    "  def __init__(self, parent, name):\n",
    "    self.name = name\n",
    "    self.subfolders = []\n",
    "    self.parent = parent\n",
    "    self.files = []\n",
    "    self.files_size = 0\n",
    "    self.full_size = 0\n",
    "\n",
    "  def add_file(self, new_file):\n",
    "    # file given as string '13213 rdsa.dat'\n",
    "    for f in self.files:\n",
    "      if f == new_file:\n",
    "        return\n",
    "    s = new_file.split(\" \")[0]\n",
    "    self.files_size += int(s)\n",
    "    self.files.append(new_file)\n",
    "    return\n",
    "\n",
    "  def add_subfolder(self, new_foldername):\n",
    "    for folder in self.subfolders:\n",
    "      if folder.name == new_foldername:\n",
    "        print(\"SAME FOLDER\", folder.name, new_foldername)\n",
    "        return\n",
    "    self.subfolders.append(Folder(self, new_foldername)) # set self as parent\n",
    "    return\n",
    "\n",
    "  def calculate_total_size(self):\n",
    "    self.full_size = self.files_size\n",
    "    for folder in self.subfolders:\n",
    "      self.full_size += folder.calculate_total_size()\n",
    "    return self.full_size\n",
    "\n",
    "  def check_size_of_subfolders(self):\n",
    "    # run after calculate_total_size\n",
    "    for folder in self.subfolders:\n",
    "      folder.check_size_of_subfolders()\n",
    "    \n",
    "    if self.full_size < 100000:\n",
    "      folder_sizes_with_size_less_than_100000.append(self.full_size)\n",
    "\n",
    "    all_folder_sizes.append([self.full_size, self.name])\n",
    "      \n",
    "  def print_subfolders(self):\n",
    "    for folder in self.subfolders:\n",
    "      print(folder.name, folder.files, len(folder.subfolders), folder.files_size, folder.full_size)\n",
    "\n",
    "root = Folder(None, \"/\")\n",
    "current_folder = root"
   ]
  },
  {
   "cell_type": "code",
   "execution_count": null,
   "metadata": {},
   "outputs": [],
   "source": [
    "for i in range(0,len(datalines)):\n",
    "    line = datalines[i].split(\" \")\n",
    "\n",
    "    # list directory\n",
    "    if line[0] == \"dir\":\n",
    "        current_folder.add_subfolder(line[1])\n",
    "\n",
    "    # list file\n",
    "    if line[0].isdigit():\n",
    "        current_folder.add_file(\" \".join(line))\n",
    "\n",
    "    # command mode\n",
    "    if line[0] == \"$\":\n",
    "        # ignore ls command\n",
    "        if line[1] == \"cd\":\n",
    "            if line[2] == \"/\":\n",
    "                current_folder = root\n",
    "            elif line[2] == \"..\":\n",
    "                if current_folder.parent == None:\n",
    "                    print(\"Error. This folder has no parent folder\", line[2], current_folder.name)\n",
    "                else:\n",
    "                    current_folder = current_folder.parent\n",
    "            else:\n",
    "                sf = line[2]\n",
    "                for subfolder in current_folder.subfolders:\n",
    "                    if subfolder.name == sf:\n",
    "                        current_folder = subfolder\n",
    "\n",
    "root.calculate_total_size()\n",
    "root.check_size_of_subfolders()\n",
    "sum(folder_sizes_with_size_less_than_100000)"
   ]
  },
  {
<<<<<<< HEAD
   "cell_type": "markdown",
   "metadata": {},
   "source": [
    "### Part 2"
   ]
  },
  {
   "cell_type": "code",
   "execution_count": null,
   "metadata": {},
   "outputs": [],
   "source": [
    "tot_disk_space = 70000000\n",
    "needed_disk_space = 30000000\n",
    "current_disk_space = root.full_size\n",
    "\n",
    "threshold_space = current_disk_space + needed_disk_space - tot_disk_space"
   ]
  },
  {
   "cell_type": "code",
   "execution_count": null,
   "metadata": {},
   "outputs": [],
=======
   "cell_type": "code",
   "execution_count": 154,
   "metadata": {},
   "outputs": [
    {
     "data": {
      "text/plain": [
       ""
      ]
     },
     "execution_count": 154,
     "metadata": {},
     "output_type": "execute_result"
    }
   ],
>>>>>>> 39c8ba342bc009b866f7173b43cdbe8b7487e336
   "source": [
    "best = float('inf')\n",
    "for x in all_folder_sizes:\n",
    "    if x[0] >= threshold_space and x[0] < best:\n",
    "        best, name = x[0], x[1]\n",
    "        print(x)"
   ]
  },
  {
   "cell_type": "code",
   "execution_count": null,
   "metadata": {},
   "outputs": [],
   "source": [
    "best, name"
   ]
  }
 ],
 "metadata": {
  "kernelspec": {
   "display_name": "Python 3.11.0 64-bit",
   "language": "python",
   "name": "python3"
  },
  "language_info": {
   "codemirror_mode": {
    "name": "ipython",
    "version": 3
   },
   "file_extension": ".py",
   "mimetype": "text/x-python",
   "name": "python",
   "nbconvert_exporter": "python",
   "pygments_lexer": "ipython3",
   "version": "3.11.0"
  },
  "orig_nbformat": 4,
  "vscode": {
   "interpreter": {
    "hash": "3322777fd1eb80d56631ff78795b66dccdf92205c0d7d33b33006785ae206b86"
   }
  }
 },
 "nbformat": 4,
 "nbformat_minor": 2
}

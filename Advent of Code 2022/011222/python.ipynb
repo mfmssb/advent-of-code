{
 "cells": [
  {
   "cell_type": "code",
   "execution_count": 23,
   "id": "6aac9e31-c653-491d-91d1-07d97bcfec87",
   "metadata": {},
   "outputs": [],
   "source": [
    "f = open(\"data.txt\", \"r\")\n",
    "datastr = f.read()\n",
    "\n",
    "elves = datastr.split(\"\\n\\n\")\n",
    "\n",
    "sacks = []\n",
    "\n",
    "for e in elves:\n",
    "    sack_str = e.split(\"\\n\")\n",
    "    sack_int = [int(x) for x in sack_str]\n",
    "    sacks.append(sum(sack_int))\n",
    "\n",
    "print(max(sacks))"
   ]
  },
  {
   "cell_type": "code",
   "execution_count": 25,
   "id": "a68b8147-d342-404a-815c-c7cc713bf151",
   "metadata": {},
   "outputs": [],
   "source": [
    "sacks.sort()"
   ]
  },
  {
   "cell_type": "code",
   "execution_count": 29,
   "id": "11cd93c5-6c3a-4f92-91e7-f74bba12a1c3",
   "metadata": {},
   "outputs": [
    {
     "data": {
      "text/plain": [
       "215594"
      ]
     },
     "execution_count": 29,
     "metadata": {},
     "output_type": "execute_result"
    }
   ],
   "source": [
    "sum(sacks[-3:])"
   ]
  }
 ],
 "metadata": {
  "kernelspec": {
   "display_name": "Python 3 (ipykernel)",
   "language": "python",
   "name": "python3"
  },
  "language_info": {
   "codemirror_mode": {
    "name": "ipython",
    "version": 3
   },
   "file_extension": ".py",
   "mimetype": "text/x-python",
   "name": "python",
   "nbconvert_exporter": "python",
   "pygments_lexer": "ipython3",
   "version": "3.10.6"
  }
 },
 "nbformat": 4,
 "nbformat_minor": 5
}

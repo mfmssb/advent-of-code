{
 "cells": [
  {
   "cell_type": "code",
   "execution_count": 112,
   "id": "74914bf4-9eac-4aa7-9664-a75af200f3c7",
   "metadata": {},
   "outputs": [],
   "source": [
    "import pandas as pd"
   ]
  },
  {
   "cell_type": "code",
   "execution_count": 113,
   "id": "652a722e-c1f5-4f66-a16f-ebe284d031d9",
   "metadata": {},
   "outputs": [],
   "source": [
    "df = pd.read_csv(\"data.txt\", header=None, names=[\"cals\"], skip_blank_lines=False)"
   ]
  },
  {
   "cell_type": "code",
   "execution_count": 114,
   "id": "7edc36b4-c9be-4d92-803c-3f4936cefc3e",
   "metadata": {},
   "outputs": [],
   "source": [
    "df['empty'] = df.isna().replace({True: 1, False: 0})"
   ]
  },
  {
   "cell_type": "code",
   "execution_count": null,
   "id": "f1d3a54e-b317-45a4-bfad-0d484921d147",
   "metadata": {},
   "outputs": [],
   "source": [
    "df2['i'] = df2.index"
   ]
  },
  {
   "cell_type": "code",
   "execution_count": 116,
   "id": "2cc82d0a-5b71-4e26-ab16-2771bf043086",
   "metadata": {},
   "outputs": [],
   "source": [
    "df2 = df.loc[df['empty'] == 1].copy()"
   ]
  },
  {
   "cell_type": "code",
   "execution_count": 117,
   "id": "1b042625-eddb-4b5d-986f-0b7d01341806",
   "metadata": {},
   "outputs": [],
   "source": [
    "df2 = df2.reset_index()"
   ]
  },
  {
   "cell_type": "code",
   "execution_count": 118,
   "id": "4a799cb1-2f78-4f93-be15-e48e0ab8d177",
   "metadata": {},
   "outputs": [],
   "source": [
    "df2['teller'] = df2.index + 1"
   ]
  },
  {
   "cell_type": "code",
   "execution_count": 119,
   "id": "d2f68f73-41ab-4b8b-a1cc-6de4317e2ca5",
   "metadata": {},
   "outputs": [
    {
     "data": {
      "text/html": [
       "<div>\n",
       "<style scoped>\n",
       "    .dataframe tbody tr th:only-of-type {\n",
       "        vertical-align: middle;\n",
       "    }\n",
       "\n",
       "    .dataframe tbody tr th {\n",
       "        vertical-align: top;\n",
       "    }\n",
       "\n",
       "    .dataframe thead th {\n",
       "        text-align: right;\n",
       "    }\n",
       "</style>\n",
       "<table border=\"1\" class=\"dataframe\">\n",
       "  <thead>\n",
       "    <tr style=\"text-align: right;\">\n",
       "      <th></th>\n",
       "      <th>index</th>\n",
       "      <th>cals</th>\n",
       "      <th>empty</th>\n",
       "      <th>teller</th>\n",
       "    </tr>\n",
       "  </thead>\n",
       "  <tbody>\n",
       "    <tr>\n",
       "      <th>0</th>\n",
       "      <td>2</td>\n",
       "      <td>NaN</td>\n",
       "      <td>1</td>\n",
       "      <td>1</td>\n",
       "    </tr>\n",
       "    <tr>\n",
       "      <th>1</th>\n",
       "      <td>16</td>\n",
       "      <td>NaN</td>\n",
       "      <td>1</td>\n",
       "      <td>2</td>\n",
       "    </tr>\n",
       "    <tr>\n",
       "      <th>2</th>\n",
       "      <td>23</td>\n",
       "      <td>NaN</td>\n",
       "      <td>1</td>\n",
       "      <td>3</td>\n",
       "    </tr>\n",
       "    <tr>\n",
       "      <th>3</th>\n",
       "      <td>36</td>\n",
       "      <td>NaN</td>\n",
       "      <td>1</td>\n",
       "      <td>4</td>\n",
       "    </tr>\n",
       "    <tr>\n",
       "      <th>4</th>\n",
       "      <td>45</td>\n",
       "      <td>NaN</td>\n",
       "      <td>1</td>\n",
       "      <td>5</td>\n",
       "    </tr>\n",
       "    <tr>\n",
       "      <th>...</th>\n",
       "      <td>...</td>\n",
       "      <td>...</td>\n",
       "      <td>...</td>\n",
       "      <td>...</td>\n",
       "    </tr>\n",
       "    <tr>\n",
       "      <th>249</th>\n",
       "      <td>2208</td>\n",
       "      <td>NaN</td>\n",
       "      <td>1</td>\n",
       "      <td>250</td>\n",
       "    </tr>\n",
       "    <tr>\n",
       "      <th>250</th>\n",
       "      <td>2222</td>\n",
       "      <td>NaN</td>\n",
       "      <td>1</td>\n",
       "      <td>251</td>\n",
       "    </tr>\n",
       "    <tr>\n",
       "      <th>251</th>\n",
       "      <td>2224</td>\n",
       "      <td>NaN</td>\n",
       "      <td>1</td>\n",
       "      <td>252</td>\n",
       "    </tr>\n",
       "    <tr>\n",
       "      <th>252</th>\n",
       "      <td>2235</td>\n",
       "      <td>NaN</td>\n",
       "      <td>1</td>\n",
       "      <td>253</td>\n",
       "    </tr>\n",
       "    <tr>\n",
       "      <th>253</th>\n",
       "      <td>2245</td>\n",
       "      <td>NaN</td>\n",
       "      <td>1</td>\n",
       "      <td>254</td>\n",
       "    </tr>\n",
       "  </tbody>\n",
       "</table>\n",
       "<p>254 rows × 4 columns</p>\n",
       "</div>"
      ],
      "text/plain": [
       "     index  cals  empty  teller\n",
       "0        2   NaN      1       1\n",
       "1       16   NaN      1       2\n",
       "2       23   NaN      1       3\n",
       "3       36   NaN      1       4\n",
       "4       45   NaN      1       5\n",
       "..     ...   ...    ...     ...\n",
       "249   2208   NaN      1     250\n",
       "250   2222   NaN      1     251\n",
       "251   2224   NaN      1     252\n",
       "252   2235   NaN      1     253\n",
       "253   2245   NaN      1     254\n",
       "\n",
       "[254 rows x 4 columns]"
      ]
     },
     "execution_count": 119,
     "metadata": {},
     "output_type": "execute_result"
    }
   ],
   "source": [
    "df2"
   ]
  },
  {
   "cell_type": "code",
   "execution_count": 121,
   "id": "0256575e-26c6-4bd1-a8f6-e955cf7f9fd4",
   "metadata": {},
   "outputs": [],
   "source": [
    "df = df.reset_index()"
   ]
  },
  {
   "cell_type": "code",
   "execution_count": null,
   "id": "c1297e79-de5f-44e8-aa0c-11855d63d53e",
   "metadata": {},
   "outputs": [],
   "source": []
  }
 ],
 "metadata": {
  "kernelspec": {
   "display_name": "Pyspark (local)",
   "language": "python",
   "name": "pyspark_local"
  },
  "language_info": {
   "codemirror_mode": {
    "name": "ipython",
    "version": 3
   },
   "file_extension": ".py",
   "mimetype": "text/x-python",
   "name": "python",
   "nbconvert_exporter": "python",
   "pygments_lexer": "ipython3",
   "version": "3.10.6"
  }
 },
 "nbformat": 4,
 "nbformat_minor": 5
}

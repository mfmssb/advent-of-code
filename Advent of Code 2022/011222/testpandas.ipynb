{
 "cells": [
  {
   "cell_type": "code",
   "execution_count": null,
   "id": "74914bf4-9eac-4aa7-9664-a75af200f3c7",
   "metadata": {},
   "outputs": [],
   "source": [
    "import pandas as pd"
   ]
  },
  {
   "cell_type": "code",
   "execution_count": null,
   "id": "652a722e-c1f5-4f66-a16f-ebe284d031d9",
   "metadata": {},
   "outputs": [],
   "source": [
    "# fra kurs 091222"
   ]
  },
  {
   "cell_type": "code",
   "execution_count": null,
   "id": "c1297e79-de5f-44e8-aa0c-11855d63d53e",
   "metadata": {},
   "outputs": [],
   "source": [
    "df = (\n",
    "    pd\n",
    "    .read_csv(\"data.txt\", header=None, skip_blank_lines=False, names=[\"calories\"])\n",
    "    .assign(\n",
    "        delim=lambda rows: rows.isnull(),\n",
    "        elf_number=lambda rows: rows.delim.cumsum()\n",
    "    )\n",
    "    .dropna()\n",
    "    .groupby(\"elf_number\")\n",
    "    .agg({\"calories\": \"sum\"})\n",
    "    .reset_index()\n",
    ")"
   ]
  },
  {
   "cell_type": "code",
   "execution_count": null,
   "id": "789d1dcb",
   "metadata": {},
   "outputs": [],
   "source": [
    "def summerer_gruppe(df, group_column, sum_column):\n",
    "    return df. groupby(group_column).agg({sum_column: \"sum\"})\n",
    "\n",
    "df = (\n",
    "    pd\n",
    "    .read_csv(\"data.txt\", header=None, skip_blank_lines=False, names=[\"calories\"])\n",
    "    .assign(\n",
    "        delim=lambda rows: rows.isnull(),\n",
    "        elf_number=lambda rows: rows.delim.cumsum()\n",
    "    )\n",
    "    .dropna()\n",
    "    .pipe(summerer_gruppe, group_column=\"elf_number\", sum_column=\"calories\")\n",
    ")"
   ]
  },
  {
   "cell_type": "code",
   "execution_count": null,
   "id": "2451a0e0",
   "metadata": {},
   "outputs": [],
   "source": []
  }
 ],
 "metadata": {
  "language_info": {
   "codemirror_mode": {
    "name": "ipython"
   },
   "file_extension": ".py",
   "mimetype": "text/x-python",
   "name": "python",
   "nbconvert_exporter": "python"
  },
  "vscode": {
   "interpreter": {
    "hash": "44ae8641566cfcc506e9d9143b9f629f8fc7cc283ee141e7f3380a3e4f4f7d2b"
   }
  }
 },
 "nbformat": 4,
 "nbformat_minor": 5
}

{
 "cells": [
  {
   "cell_type": "code",
   "execution_count": null,
   "metadata": {},
   "outputs": [],
   "source": [
    "f = open(\"test.txt\", \"r\")\n",
    "datastr = f.read()\n",
    "datalines = datastr.split(\"\\n\")"
   ]
  }
 ],
 "metadata": {
  "kernelspec": {
   "display_name": "Python 3.10.7 64-bit",
   "language": "python",
   "name": "python3"
  },
  "language_info": {
   "name": "python",
   "version": "3.10.7"
  },
  "orig_nbformat": 4,
  "vscode": {
   "interpreter": {
    "hash": "44ae8641566cfcc506e9d9143b9f629f8fc7cc283ee141e7f3380a3e4f4f7d2b"
   }
  }
 },
 "nbformat": 4,
 "nbformat_minor": 2
}

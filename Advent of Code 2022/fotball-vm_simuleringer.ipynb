{
 "cells": [
  {
   "cell_type": "code",
   "execution_count": 166,
   "metadata": {},
   "outputs": [],
   "source": [
    "from random import randint\n",
    "import pandas as pd"
   ]
  },
  {
   "cell_type": "code",
   "execution_count": 167,
   "metadata": {},
   "outputs": [],
   "source": [
    "def spill_kamp(indeks):\n",
    "    i = indeks[0]\n",
    "    j = indeks[1]\n",
    "\n",
    "    max_maal = randint(0,6)\n",
    "\n",
    "    maal_hjemme = randint(0, max_maal)\n",
    "    maal_borte = randint(0, max_maal)\n",
    "\n",
    "    maal[i] += maal_hjemme\n",
    "    maal[j] += maal_borte\n",
    "\n",
    "    if maal_hjemme > maal_borte:\n",
    "        poeng[i] += 3\n",
    "    elif maal_hjemme == maal_borte:\n",
    "        poeng[i] += 1\n",
    "        poeng[j] += 1\n",
    "    else:\n",
    "        poeng[j] += 3\n",
    "    \n",
    "    t = 100\n",
    "    while(t > 0):\n",
    "        if randint(0,100) < 20:\n",
    "            if randint(0,100 <= 50):\n",
    "                gule[i] += 1\n",
    "            else:\n",
    "                gule[j] += 1\n",
    "        t -= randint(0,20)\n",
    "        if randint(0,100) < 4:\n",
    "            if randint(0,100 <= 50):\n",
    "                rode[i] += 1\n",
    "            else:\n",
    "                rode[j] += 1\n",
    "\n",
    "\n",
    "def skriv_standings():\n",
    "    print(gruppe)\n",
    "    print(\"poeng\", poeng)\n",
    "    print(\"maal\", maal)\n",
    "    print(\"gule\", gule)\n",
    "    print(\"rode\", rode)   "
   ]
  },
  {
   "cell_type": "code",
   "execution_count": 259,
   "metadata": {},
   "outputs": [
    {
     "data": {
      "text/html": [
       "<div>\n",
       "<style scoped>\n",
       "    .dataframe tbody tr th:only-of-type {\n",
       "        vertical-align: middle;\n",
       "    }\n",
       "\n",
       "    .dataframe tbody tr th {\n",
       "        vertical-align: top;\n",
       "    }\n",
       "\n",
       "    .dataframe thead th {\n",
       "        text-align: right;\n",
       "    }\n",
       "</style>\n",
       "<table border=\"1\" class=\"dataframe\">\n",
       "  <thead>\n",
       "    <tr style=\"text-align: right;\">\n",
       "      <th></th>\n",
       "      <th>navn</th>\n",
       "      <th>poeng</th>\n",
       "      <th>mål</th>\n",
       "      <th>gule</th>\n",
       "      <th>røde</th>\n",
       "    </tr>\n",
       "  </thead>\n",
       "  <tbody>\n",
       "    <tr>\n",
       "      <th>3</th>\n",
       "      <td>Costa Rica</td>\n",
       "      <td>7</td>\n",
       "      <td>4</td>\n",
       "      <td>10</td>\n",
       "      <td>2</td>\n",
       "    </tr>\n",
       "    <tr>\n",
       "      <th>2</th>\n",
       "      <td>Tyskland</td>\n",
       "      <td>4</td>\n",
       "      <td>3</td>\n",
       "      <td>1</td>\n",
       "      <td>1</td>\n",
       "    </tr>\n",
       "    <tr>\n",
       "      <th>1</th>\n",
       "      <td>Spania</td>\n",
       "      <td>4</td>\n",
       "      <td>2</td>\n",
       "      <td>4</td>\n",
       "      <td>0</td>\n",
       "    </tr>\n",
       "    <tr>\n",
       "      <th>0</th>\n",
       "      <td>Japan</td>\n",
       "      <td>1</td>\n",
       "      <td>5</td>\n",
       "      <td>0</td>\n",
       "      <td>0</td>\n",
       "    </tr>\n",
       "  </tbody>\n",
       "</table>\n",
       "</div>"
      ],
      "text/plain": [
       "         navn poeng mål gule røde\n",
       "3  Costa Rica     7   4   10    2\n",
       "2    Tyskland     4   3    1    1\n",
       "1      Spania     4   2    4    0\n",
       "0       Japan     1   5    0    0"
      ]
     },
     "execution_count": 259,
     "metadata": {},
     "output_type": "execute_result"
    }
   ],
   "source": [
    "ant_poeng_for_andreplass = []\n",
    "\n",
    "for i in range(10000):\n",
    "\n",
    "    gruppe = [\"Japan\", \"Spania\", \"Tyskland\", \"Costa Rica\"]\n",
    "    poeng = [0,0,0,0]\n",
    "    maal = [0,0,0,0]\n",
    "    gule = [0,0,0,0]\n",
    "    rode = [0,0,0,0]\n",
    "\n",
    "    kamper = [[0,1], [2,3], [0,2], [1,3], [0,3], [1,2]]\n",
    "\n",
    "    for kamp in kamper:\n",
    "        spill_kamp(kamp)\n",
    "\n",
    "    poeng.sort()\n",
    "\n",
    "    ant_poeng_for_andreplass.append(poeng[2])\n",
    "\n",
    "    # if poeng[2] == 4:\n",
    "\n",
    "    #     tbl = pd.DataFrame([gruppe, poeng, maal, gule, rode]).T\n",
    "    #     tbl.columns = ['navn', 'poeng', 'mål', 'gule', 'røde']\n",
    "    #     tbl = tbl.sort_values(['poeng', 'mål'], ascending=False)\n",
    "    #     tbl.poeng.iloc[1]\n",
    "    #     break\n",
    "\n",
    "tbl\n",
    "\n"
   ]
  },
  {
   "cell_type": "code",
   "execution_count": 277,
   "metadata": {},
   "outputs": [
    {
     "name": "stdout",
     "output_type": "stream",
     "text": [
      "Antall gruppespill:\t 10000\n",
      "Antall ganger andreplass fikk 9 poeng:\t 0\n",
      "Antall prosent:  0.0\n"
     ]
    }
   ],
   "source": [
    "print(\"Antall gruppespill:\\t\", len(ant_poeng_for_andreplass))\n",
    "ant = ant_poeng_for_andreplass.count(9)\n",
    "print(\"Antall ganger andreplass fikk 9 poeng:\\t\", ant)\n",
    "print(\"Antall prosent: \", ant/len(ant_poeng_for_andreplass)*100)"
   ]
  },
  {
   "cell_type": "code",
   "execution_count": null,
   "metadata": {},
   "outputs": [],
   "source": []
  },
  {
   "cell_type": "code",
   "execution_count": 284,
   "metadata": {},
   "outputs": [],
   "source": [
    "\n",
    "## gitt 4 poeng, hva er sjansen for å gå videre?\n",
    "kamper_med_firepoengere = [] # 1 hvis gått videre, 0 hvis ikke\n",
    "\n",
    "for i in range(10000):\n",
    "\n",
    "    gruppe = [\"Japan\", \"Spania\", \"Tyskland\", \"Costa Rica\"]\n",
    "    poeng = [0,0,0,0]\n",
    "    maal = [0,0,0,0]\n",
    "    gule = [0,0,0,0]\n",
    "    rode = [0,0,0,0]\n",
    "\n",
    "    kamper = [[0,1], [2,3], [0,2], [1,3], [0,3], [1,2]]\n",
    "\n",
    "\n",
    "    for kamp in kamper:\n",
    "        spill_kamp(kamp)\n",
    "\n",
    "    if poeng.__contains__(4):\n",
    "        poeng.sort()\n",
    "\n",
    "        if poeng[3] == 4 or poeng[2] == 4:\n",
    "            kamper_med_firepoengere.append(1)\n",
    "        else:\n",
    "            kamper_med_firepoengere.append(0)\n",
    "\n",
    "    # if poeng[2] == 4:\n",
    "\n",
    "    #     tbl = pd.DataFrame([gruppe, poeng, maal, gule, rode]).T\n",
    "    #     tbl.columns = ['navn', 'poeng', 'mål', 'gule', 'røde']\n",
    "    #     tbl = tbl.sort_values(['poeng', 'mål'], ascending=False)\n",
    "    #     tbl.poeng.iloc[1]\n",
    "    #     break\n"
   ]
  },
  {
   "cell_type": "code",
   "execution_count": 289,
   "metadata": {},
   "outputs": [
    {
     "name": "stdout",
     "output_type": "stream",
     "text": [
      "Antall gruppespill av 10000 som endte med minst et lag på 4 poeng: 6349\n",
      "Antall ganger et lag med 4 poeng gikk videre: 4728. Dvs 74.5 %. \n"
     ]
    }
   ],
   "source": [
    "tot = len(kamper_med_firepoengere)\n",
    "ant_videre = sum(kamper_med_firepoengere)\n",
    "prosent = round(ant_videre * 100 / tot,1)\n",
    "\n",
    "print(f'Antall gruppespill av 10000 som endte med minst et lag på 4 poeng: {tot}')\n",
    "print(f'Antall ganger et lag med 4 poeng gikk videre: {ant_videre}. Dvs {prosent} %. ')\n"
   ]
  }
 ],
 "metadata": {
  "kernelspec": {
   "display_name": "Python 3.11.0 64-bit",
   "language": "python",
   "name": "python3"
  },
  "language_info": {
   "codemirror_mode": {
    "name": "ipython",
    "version": 3
   },
   "file_extension": ".py",
   "mimetype": "text/x-python",
   "name": "python",
   "nbconvert_exporter": "python",
   "pygments_lexer": "ipython3",
   "version": "3.11.0"
  },
  "orig_nbformat": 4,
  "vscode": {
   "interpreter": {
    "hash": "3322777fd1eb80d56631ff78795b66dccdf92205c0d7d33b33006785ae206b86"
   }
  }
 },
 "nbformat": 4,
 "nbformat_minor": 2
}

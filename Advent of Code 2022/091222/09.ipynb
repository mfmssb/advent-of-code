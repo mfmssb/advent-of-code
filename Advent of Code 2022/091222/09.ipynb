{
 "cells": [
  {
   "cell_type": "code",
   "execution_count": null,
   "metadata": {},
   "outputs": [],
   "source": [
    "f = open(\"data.txt\", \"r\")\n",
    "datastr = f.read()\n",
    "datalines = datastr.split(\"\\n\")\n",
    "\n",
    "H = len(datalines)\n",
    "\n",
    "gridsize = H*2\n",
    "(MIDX, MIDY) = (H, H)\n",
    "\n",
    "(hx, hy) = (MIDX, MIDY)\n",
    "(tx, ty) = (MIDX, MIDY)\n",
    "# making an empty grid\n",
    "grid = [[0] * gridsize for y in range(gridsize)]\n",
    "grid[ty][tx] = 1"
   ]
  },
  {
   "cell_type": "code",
   "execution_count": null,
   "metadata": {},
   "outputs": [],
   "source": [
    "def move_head(hx, hy, tx, ty, direction, num_steps):\n",
    "    (vx, vy) = get_direction_vector(direction)\n",
    "    \n",
    "    for i in range(num_steps):\n",
    "        fx = hx + vx\n",
    "        hy = hy + vy\n",
    "        (tx, ty) = update_tail(hx, hy, tx, ty)\n",
    "    \n",
    "    return (hx, hy, tx, ty)\n",
    "\n",
    "def update_tail(hx, hy, tx, ty):\n",
    "    diffx = hx-tx\n",
    "    diffy = hy-ty\n",
    "    \n",
    "    offset = abs(diffx) + abs(diffy)\n",
    "\n",
    "    sdiffx = sign(diffx)\n",
    "    sdiffy = sign(diffy)\n",
    "    \n",
    "    if offset == 0 or offset == 1:\n",
    "        return (tx, ty)\n",
    "\n",
    "    if offset > 3:\n",
    "        print(\"Error something is wrong\")\n",
    "\n",
    "    # offset = 2 (north, east, south, west) + short diagonals\n",
    "    \n",
    "    if abs(diffx) == 1 and abs(diffy) == 1: # short diagonals\n",
    "        return (tx, ty)\n",
    "    \n",
    "    # offset = 3 long diagonals\n",
    "\n",
    "    tx += sdiffx\n",
    "    ty += sdiffy\n",
    "\n",
    "    grid[ty][tx] = 1  \n",
    "\n",
    "    return (tx, ty)\n",
    "\n",
    "def sign(x):\n",
    "    if x == 0:\n",
    "        return 0\n",
    "    elif x < 0:\n",
    "        return -1\n",
    "    else:\n",
    "        return 1\n",
    "\n",
    "def get_direction_vector(direction):\n",
    "    if   direction == \"U\": (vx, vy) = (0, -1)\n",
    "    elif direction == \"R\": (vx, vy) = (1, 0)\n",
    "    elif direction == \"D\": (vx, vy) = (0, 1)\n",
    "    elif direction == \"L\": (vx, vy) = (-1, 0)\n",
    "    else:\n",
    "        (vx, vy) = (None, None)\n",
    "        print(\"ERROR direction\")\n",
    "    return (vx, vy)\n",
    "\n",
    "def draw_board(hx,hy,tx,ty):\n",
    "    print(\"-\" * 50)\n",
    "    hprev = grid[hy][hx] \n",
    "    tprev = grid[ty][tx]\n",
    "\n",
    "    grid[hy][hx] = 3\n",
    "    grid[ty][tx] = 2\n",
    "\n",
    "    for row in grid:\n",
    "        print(row)\n",
    "    grid[hy][hx] = hprev\n",
    "    grid[ty][tx] = tprev"
   ]
  },
  {
   "cell_type": "code",
   "execution_count": null,
   "metadata": {},
   "outputs": [],
   "source": [
    "for line in datalines:\n",
    "    instruction = line.split(\" \")\n",
    "    \n",
    "    dir = instruction[0]\n",
    "    steps = int(instruction[1]) \n",
    "     \n",
    "    (hx, hy, tx, ty) = move_head(hx, hy, tx, ty, dir, steps)\n"
   ]
  },
  {
   "cell_type": "code",
   "execution_count": null,
   "metadata": {},
   "outputs": [],
   "source": [
    "# draw_board(hx,hy,tx,ty) # warning 4000x4000 table ;)"
   ]
  },
  {
   "cell_type": "code",
   "execution_count": null,
   "metadata": {},
   "outputs": [],
   "source": [
    "sum([sum(row) for row in grid])"
   ]
  },
  {
   "cell_type": "markdown",
   "metadata": {},
   "source": [
    "### Part 2"
   ]
  },
  {
   "cell_type": "code",
   "execution_count": null,
   "metadata": {},
   "outputs": [],
   "source": [
    "f = open(\"test.txt\", \"r\")\n",
    "datastr = f.read()\n",
    "datalines = datastr.split(\"\\n\")\n",
    "\n",
    "H = len(datalines)\n",
    "ROPELENGTH = 10\n",
    "\n",
    "gridsize = H*2\n",
    "(MIDX, MIDY) = (H, H)\n",
    "\n",
    "# rope = ROPELENGTH*[[H,H].copy()]\n",
    "rope = [[H,H] for i in range(ROPELENGTH)]\n",
    "\n",
    "# making an empty grid\n",
    "grid = [[0] * gridsize for y in range(gridsize)]\n"
   ]
  },
  {
   "cell_type": "code",
   "execution_count": null,
   "metadata": {},
   "outputs": [],
   "source": [
    "def move_head2(rope, direction, num_steps):\n",
    "    (vx, vy) = get_direction_vector(direction)\n",
    "    \n",
    "    for i in range(num_steps):\n",
    "        rope[0][0] += vx\n",
    "        rope[0][1] += vy\n",
    "\n",
    "        for i in range(1,ROPELENGTH):\n",
    "            # draw_board2(rope)\n",
    "            rope[i] = update_tail2(rope[i], rope[i-1])\n",
    "\n",
    "            if i == ROPELENGTH-1:\n",
    "                # set grid value to be 1 if tail has been there\n",
    "                grid[rope[i][1]][rope[i][0]] = 1  \n",
    "\n",
    "def update_tail2(front_part, behind_part):\n",
    "    fx = front_part[0]\n",
    "    fy = front_part[1]\n",
    "    bx = behind_part[0]\n",
    "    by = behind_part[1]\n",
    "\n",
    "    diffx = fx-bx\n",
    "    diffy = fy-by  \n",
    "    \n",
    "    offset = abs(diffx) + abs(diffy)\n",
    "\n",
    "    sdiffx = sign(diffx)\n",
    "    sdiffy = sign(diffy)\n",
    "    \n",
    "    if offset == 0 or offset == 1:\n",
    "        return [bx, by]\n",
    "\n",
    "    if offset > 3:\n",
    "        print(\"Error something is wrong\")\n",
    "\n",
    "    # offset = 2 is north, east, south, west + short diagonals\n",
    "    \n",
    "    if abs(diffx) == 1 and abs(diffy) == 1: # short diagonals\n",
    "        return [bx, by]\n",
    "    \n",
    "    # offset = 3 long diagonals\n",
    "\n",
    "    bx += sdiffx\n",
    "    by += sdiffy\n",
    "\n",
    "    \n",
    "\n",
    "    return [bx, by]\n",
    "\n",
    "def draw_board2(rope):\n",
    "    print(\"-\" * 50)\n",
    "    \n",
    "    prev_values = []\n",
    "    for i in range(ROPELENGTH):\n",
    "        (x, y) = (rope[i][0], rope[i][1])\n",
    "        prev_values.append(grid[y][x])\n",
    "    \n",
    "    for i in range(ROPELENGTH):\n",
    "        (x, y) = (rope[i][0], rope[i][1])\n",
    "        grid[y][x] = \"MAGNE\"\n",
    "        # grid[y][x] = ROPELENGTH - i - 1\n",
    "\n",
    "    for row in grid:\n",
    "        print(row)\n",
    "\n",
    "    for i in range(ROPELENGTH):\n",
    "        (x, y) = (rope[i][0], rope[i][1])\n",
    "        grid[y][x] = prev_values[i]\n"
   ]
  },
  {
   "cell_type": "code",
   "execution_count": null,
   "metadata": {},
   "outputs": [],
   "source": [
    "move_head2(rope, \"D\", 6)\n",
    "draw_board2(rope)"
   ]
  },
  {
   "cell_type": "code",
   "execution_count": null,
   "metadata": {},
   "outputs": [],
   "source": [
    "draw_board2(rope)"
   ]
  }
 ],
 "metadata": {
  "language_info": {
   "codemirror_mode": {
    "name": "ipython"
   },
   "file_extension": ".py",
   "mimetype": "text/x-python",
   "name": "python",
   "nbconvert_exporter": "python"
  },
  "vscode": {
   "interpreter": {
    "hash": "3322777fd1eb80d56631ff78795b66dccdf92205c0d7d33b33006785ae206b86"
   }
  }
 },
 "nbformat": 4,
 "nbformat_minor": 2
}

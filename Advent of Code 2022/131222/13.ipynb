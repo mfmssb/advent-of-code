{
 "cells": [
  {
   "cell_type": "code",
   "execution_count": null,
   "metadata": {},
   "outputs": [],
   "source": [
    "f = open(\"data.txt\", \"r\")\n",
    "datastr = f.read()\n",
    "datalines = datastr.split(\"\\n\")"
   ]
  },
  {
   "cell_type": "code",
   "execution_count": null,
   "metadata": {},
   "outputs": [],
   "source": [
    "datalines = [x for x in datalines if x != '']\n"
   ]
  },
  {
   "cell_type": "code",
   "execution_count": null,
   "metadata": {},
   "outputs": [],
   "source": [
    "def compare_first_smaller_than_second(l1, l2):\n",
    "    # [[1],[2,3,4]]\n",
    "    # [1,1,5,1,1]\n",
    "    if type(l1) != list or type(l2) != list:\n",
    "        print(\"Error. Not comparing lists\")\n",
    "        return\n",
    "    to = min(len(l1), len(l2))\n",
    "    \n",
    "    for i in range(to):\n",
    "        val1 = l1[i]\n",
    "        val2 = l2[i]\n",
    "\n",
    "        if type(val1) == int and type(val2) == int:\n",
    "            if val1 != val2:\n",
    "                return val1 < val2\n",
    "\n",
    "        if type(val1) == list and type(val2) == int:\n",
    "            if val1 != [val2]:\n",
    "                return compare_first_smaller_than_second(val1, [val2])\n",
    "\n",
    "        if type(val1) == int and type(val2) == list:\n",
    "            if [val1] != val2:\n",
    "                return compare_first_smaller_than_second([val1], val2)\n",
    "        \n",
    "        if type(val1) == list and type(val2) == list:\n",
    "            if val1 != val2:\n",
    "                return compare_first_smaller_than_second(val1, val2)\n",
    "\n",
    "    if len(l1) != len(l2):\n",
    "        return len(l1) < len(l2)\n",
    "    return True\n"
   ]
  },
  {
   "cell_type": "code",
   "execution_count": null,
   "metadata": {},
   "outputs": [],
   "source": [
    "sum = 0\n",
    "for i in range(round(len(datalines)/2)):\n",
    "    a = eval(datalines[2*i])\n",
    "    b = eval(datalines[2*i+1])\n",
    "\n",
    "    if compare_first_smaller_than_second(a,b):\n",
    "        sum += i+1\n",
    "sum"
   ]
  },
  {
   "attachments": {},
   "cell_type": "markdown",
   "metadata": {},
   "source": [
    "# Part 2"
   ]
  },
  {
   "cell_type": "code",
   "execution_count": null,
   "metadata": {},
   "outputs": [],
   "source": [
    "f = open(\"data.txt\", \"r\")\n",
    "datastr = f.read()\n",
    "datalines = datastr.split(\"\\n\")"
   ]
  },
  {
   "cell_type": "code",
   "execution_count": null,
   "metadata": {},
   "outputs": [],
   "source": [
    "datalines = [x for x in datalines if x != '']\n",
    "datalines.append('[[2]]')\n",
    "datalines.append('[[6]]')"
   ]
  },
  {
   "cell_type": "code",
   "execution_count": null,
   "metadata": {},
   "outputs": [],
   "source": [
    "import copy\n",
    "def swap(l, n1, n2):\n",
    "    a1 = copy2(l[n1])\n",
    "    a2 = copy2(l[n2])\n",
    "    l[n1] = a2\n",
    "    l[n2] = a1\n",
    "    return l\n",
    "\n",
    "def copy2(x):\n",
    "    if type(x) == list:\n",
    "        return copy.deepcopy(x)\n",
    "    return copy.deepcopy(x)"
   ]
  },
  {
   "cell_type": "code",
   "execution_count": null,
   "metadata": {},
   "outputs": [],
   "source": [
    "for i in range(len(datalines)):\n",
    "    for j in range(i, len(datalines)):\n",
    "        a = eval(datalines[i])\n",
    "        b = eval(datalines[j])\n",
    "        if not compare_first_smaller_than_second(a,b):\n",
    "            datalines[i], datalines[j] = datalines[j], datalines[i]\n",
    "# datalines"
   ]
  },
  {
   "cell_type": "code",
   "execution_count": null,
   "metadata": {},
   "outputs": [],
   "source": [
    "a,b = -1, -1\n",
    "for i, x in enumerate(datalines):\n",
    "    if x == '[[2]]':\n",
    "        a = i\n",
    "        print(i,x)\n",
    "    if x == '[[6]]':\n",
    "        b = i\n",
    "        print(i,x)\n",
    "a,b = a+1,b+1           # elves' indexing\n",
    "print(\"Product = \", a*b)"
   ]
  },
  {
   "cell_type": "code",
   "execution_count": null,
   "metadata": {},
   "outputs": [],
   "source": []
  },
  {
   "cell_type": "code",
   "execution_count": null,
   "metadata": {},
   "outputs": [],
   "source": []
  },
  {
   "cell_type": "code",
   "execution_count": null,
   "metadata": {},
   "outputs": [],
   "source": []
  },
  {
   "cell_type": "code",
   "execution_count": null,
   "metadata": {},
   "outputs": [],
   "source": [
    "# 19686 too high\n",
    "\n",
    "# 19392 too low"
   ]
  }
 ],
 "metadata": {
  "language_info": {
   "codemirror_mode": {
    "name": "ipython"
   },
   "file_extension": ".py",
   "mimetype": "text/x-python",
   "name": "python",
   "nbconvert_exporter": "python"
  },
  "vscode": {
   "interpreter": {
    "hash": "44ae8641566cfcc506e9d9143b9f629f8fc7cc283ee141e7f3380a3e4f4f7d2b"
   }
  }
 },
 "nbformat": 4,
 "nbformat_minor": 2
}

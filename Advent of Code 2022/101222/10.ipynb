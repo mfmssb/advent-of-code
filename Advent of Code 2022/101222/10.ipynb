{
 "cells": [
  {
   "cell_type": "code",
   "execution_count": null,
   "metadata": {},
   "outputs": [],
   "source": [
    "f = open(\"test.txt\", \"r\")\n",
    "datastr = f.read()\n",
    "datalines = datastr.split(\"\\n\")"
   ]
  },
  {
   "cell_type": "code",
   "execution_count": null,
   "metadata": {},
   "outputs": [],
   "source": [
    "X = 1\n",
    "cnum = 1\n",
    "signal_strengths = []"
   ]
  },
  {
   "cell_type": "markdown",
   "metadata": {},
   "source": [
    "- addx V takes two cycles to complete. After two cycles, the X register is increased by the value V. (V can be negative.)\n",
    "- noop takes one cycle to complete. It has no other effect."
   ]
  },
  {
   "cell_type": "code",
   "execution_count": null,
   "metadata": {},
   "outputs": [],
   "source": [
    "for instruction in datalines:\n",
    "    signal_strengths.append(cnum*X)\n",
    "    if instruction == 'noop':\n",
    "        cnum += 1\n",
    "    else:\n",
    "        a = instruction.split(\" \")\n",
    "        num = int(a[1])\n",
    "        cnum += 1\n",
    "        signal_strengths.append(cnum*X)\n",
    "        X += num\n",
    "        cnum += 1"
   ]
  },
  {
   "cell_type": "code",
   "execution_count": null,
   "metadata": {},
   "outputs": [],
   "source": [
    "cycle_check = [20,60,100,140,180,220]\n",
    "\n",
    "sum = 0\n",
    "for i in cycle_check:\n",
    "    sum += signal_strengths[i-1]\n",
    "print(sum)"
   ]
  },
  {
   "cell_type": "markdown",
   "metadata": {},
   "source": [
    "#### Part 2"
   ]
  },
  {
   "cell_type": "code",
   "execution_count": null,
   "metadata": {},
   "outputs": [],
   "source": [
    "W = 40\n",
    "H = 6\n",
    "X = 1\n",
    "cnum = 1\n",
    "register_vals = []\n",
    "screen = \"-\" * W * H"
   ]
  },
  {
   "cell_type": "code",
   "execution_count": null,
   "metadata": {},
   "outputs": [],
   "source": [
    "def draw_sprite_at(screen, n):\n",
    "    if (n-1>=0): screen = change_letter(screen, \"#\", n-1)\n",
    "    if (n+1<W*H): screen = change_letter(screen, \"#\", n+1)\n",
    "    screen = change_letter(screen, \"#\", n)\n",
    "    return screen\n",
    "\n",
    "def change_letter(s, letter, index): \n",
    "    return s[:index] + letter + s[index+1:]\n",
    "\n",
    "def draw_screen(screen):\n",
    "    screen_arr = []\n",
    "    for i in range(0,H):\n",
    "        screen_arr.append(screen[i*W:(i+1)*W])\n",
    "\n",
    "    for s in screen_arr:\n",
    "        print(s)"
   ]
  },
  {
   "cell_type": "code",
   "execution_count": null,
   "metadata": {},
   "outputs": [],
   "source": [
    "for instruction in datalines:\n",
    "    register_vals.append([cnum, X])\n",
    "    if instruction == 'noop':\n",
    "        cnum += 1\n",
    "    else:\n",
    "        a = instruction.split(\" \")\n",
    "        num = int(a[1])\n",
    "        cnum += 1\n",
    "        X += num\n",
    "        screen = draw_sprite_at(screen, X)\n",
    "        register_vals.append([cnum, X])\n",
    "        cnum += 1\n",
    "# draw_screen(screen)"
   ]
  },
  {
   "cell_type": "code",
   "execution_count": null,
   "metadata": {},
   "outputs": [],
   "source": [
    "screen"
   ]
  },
  {
   "cell_type": "code",
   "execution_count": null,
   "metadata": {},
   "outputs": [],
   "source": [
    "draw_screen(screen)\n",
    "\n"
   ]
  }
 ],
 "metadata": {
  "language_info": {
   "codemirror_mode": {
    "name": "ipython"
   },
   "file_extension": ".py",
   "mimetype": "text/x-python",
   "name": "python",
   "nbconvert_exporter": "python"
  },
  "vscode": {
   "interpreter": {
    "hash": "3322777fd1eb80d56631ff78795b66dccdf92205c0d7d33b33006785ae206b86"
   }
  }
 },
 "nbformat": 4,
 "nbformat_minor": 2
}

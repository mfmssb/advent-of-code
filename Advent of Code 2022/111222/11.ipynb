{
 "cells": [
  {
   "cell_type": "code",
   "execution_count": 75,
   "metadata": {},
   "outputs": [],
   "source": [
    "f = open(\"data.txt\", \"r\")\n",
    "datastr = f.read()\n",
    "datalines = datastr.split(\"\\n\")"
   ]
  },
  {
   "cell_type": "code",
   "execution_count": 76,
   "metadata": {},
   "outputs": [],
   "source": [
    "class Monkey:\n",
    "    def __init__(self, index, items, operation, test, throwlogic):\n",
    "        self.index = index\n",
    "        self.items = items\n",
    "        \n",
    "        self.operation = operation   # string value to be evaluated by eval \"old + 3\"\n",
    "        self.test = test             # string value to be evaluated by eval \"x % 13 == 0\"\n",
    "        self.throwlogic = throwlogic # [if true throw to monkey, if false throw to monkey ]\n",
    "\n",
    "        self.num_inspected_items = 0\n",
    "\n",
    "    def inspect_item(self, old):\n",
    "        new = eval(self.operation)\n",
    "        return new\n",
    "    \n",
    "    def apply_test(self, x):\n",
    "        return eval(self.test)\n"
   ]
  },
  {
   "cell_type": "code",
   "execution_count": 77,
   "metadata": {},
   "outputs": [],
   "source": [
    "# parsing indata\n",
    "def parse_monkey_data():\n",
    "    monkeys = []\n",
    "    for i in range(1,round(len(datalines) / 7)+1):\n",
    "        a = datastr.split(\"Monkey \")[i]\n",
    "        operation = a.split(\"\\n\")[2].replace(\"  Operation: new = \", \"\")\n",
    "        a = a.replace(\"  Operation: new = \" + operation + \"\\n\", \"\")\n",
    "\n",
    "        a = a.replace(\",\", \"\").replace(\"\\n\", \"\").replace(\":\", \"\").split(\" \")\n",
    "        a = [x for x in a if x.isdigit()]\n",
    "\n",
    "        index = int(a[0])\n",
    "        items = a[1:-3]\n",
    "        items = [int(x) for x in items]\n",
    "        \n",
    "        divby = f\"x % {a[-3]} == 0\"\n",
    "        throwlogic = [int(a[-2]), int(a[-1])]\n",
    "\n",
    "        monkeys.append(Monkey(index, items, operation, divby, throwlogic))\n",
    "    return monkeys\n",
    "\n",
    "monkeys = parse_monkey_data()"
   ]
  },
  {
   "cell_type": "code",
   "execution_count": 78,
   "metadata": {},
   "outputs": [],
   "source": [
    "def print_all_monkeys():\n",
    "    for m in monkeys:\n",
    "        # print(m.index, \"items:\", m.items, \". Number of inspections: \", m.num_inspected_items)\n",
    "        print(m.index, \". Number of inspections: \", m.num_inspected_items)\n",
    "\n",
    "        # print(vars(m))"
   ]
  },
  {
   "cell_type": "code",
   "execution_count": 79,
   "metadata": {},
   "outputs": [],
   "source": [
    "def inspect_all_items(monkey,part):\n",
    "    for x in monkey.items:\n",
    "        # do monkey operation\n",
    "        new = monkey.inspect_item(x)\n",
    "\n",
    "        # boredom operation\n",
    "        if part == 1:\n",
    "            new = new // 3\n",
    "        elif part == 2:\n",
    "            # multiplying all the divisibility tests and throws away multiples of this number\n",
    "            # to avoid huge numbers\n",
    "            new = new % (19*2*13*5*7*11*17*3) \n",
    "\n",
    "        # item to new monkey depending on logic\n",
    "        if monkey.apply_test(new):\n",
    "            throw_to_num = monkey.throwlogic[0]\n",
    "        else:\n",
    "            throw_to_num = monkey.throwlogic[1]\n",
    "\n",
    "        # update monkey's itemlists\n",
    "        monkeys[throw_to_num].items.append(new)\n",
    "\n",
    "        # increase num_inspected_items\n",
    "        monkey.num_inspected_items += 1\n",
    "\n",
    "    # print_all_monkeys()\n",
    "    monkey.items = []"
   ]
  },
  {
   "cell_type": "code",
   "execution_count": 80,
   "metadata": {},
   "outputs": [],
   "source": [
    "def do_n_rounds(n, part):\n",
    "    for i in range(n):\n",
    "        for i in range(len(monkeys)):\n",
    "            inspect_all_items(monkeys[i],part)"
   ]
  },
  {
   "cell_type": "code",
   "execution_count": 81,
   "metadata": {},
   "outputs": [],
   "source": [
    "do_n_rounds(20,1)\n"
   ]
  },
  {
   "cell_type": "code",
   "execution_count": 82,
   "metadata": {},
   "outputs": [
    {
     "name": "stdout",
     "output_type": "stream",
     "text": [
      "88208\n"
     ]
    }
   ],
   "source": [
    "nums = []\n",
    "for m in monkeys:\n",
    "    nums.append(m.num_inspected_items)\n",
    "    \n",
    "nums.sort()\n",
    "print(nums[-2]*nums[-1])"
   ]
  },
  {
   "cell_type": "markdown",
   "metadata": {},
   "source": [
    "Part 2"
   ]
  },
  {
   "cell_type": "code",
   "execution_count": 83,
   "metadata": {},
   "outputs": [],
   "source": [
    "monkeys = parse_monkey_data()"
   ]
  },
  {
   "cell_type": "code",
   "execution_count": 84,
   "metadata": {},
   "outputs": [],
   "source": [
    "do_n_rounds(10000,2)"
   ]
  },
  {
   "cell_type": "code",
   "execution_count": 85,
   "metadata": {},
   "outputs": [
    {
     "name": "stdout",
     "output_type": "stream",
     "text": [
      "21115867968\n"
     ]
    }
   ],
   "source": [
    "nums = []\n",
    "for m in monkeys:\n",
    "    nums.append(m.num_inspected_items)\n",
    "    \n",
    "nums.sort()\n",
    "print(nums[-2]*nums[-1])"
   ]
  },
  {
   "cell_type": "code",
   "execution_count": 86,
   "metadata": {},
   "outputs": [
    {
     "name": "stdout",
     "output_type": "stream",
     "text": [
      "0 . Number of inspections:  145312\n",
      "1 . Number of inspections:  76000\n",
      "2 . Number of inspections:  69327\n",
      "3 . Number of inspections:  69344\n",
      "4 . Number of inspections:  118646\n",
      "5 . Number of inspections:  75990\n",
      "6 . Number of inspections:  13329\n",
      "7 . Number of inspections:  145314\n"
     ]
    }
   ],
   "source": [
    "print_all_monkeys()"
   ]
  }
 ],
 "metadata": {
  "kernelspec": {
   "display_name": "Python 3.11.0 64-bit",
   "language": "python",
   "name": "python3"
  },
  "language_info": {
   "codemirror_mode": {
    "name": "ipython",
    "version": 3
   },
   "file_extension": ".py",
   "mimetype": "text/x-python",
   "name": "python",
   "nbconvert_exporter": "python",
   "pygments_lexer": "ipython3",
   "version": "3.11.0"
  },
  "orig_nbformat": 4,
  "vscode": {
   "interpreter": {
    "hash": "3322777fd1eb80d56631ff78795b66dccdf92205c0d7d33b33006785ae206b86"
   }
  }
 },
 "nbformat": 4,
 "nbformat_minor": 2
}

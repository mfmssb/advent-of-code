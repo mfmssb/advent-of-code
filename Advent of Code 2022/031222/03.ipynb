{
 "cells": [
  {
   "cell_type": "code",
   "execution_count": null,
   "metadata": {},
   "outputs": [],
   "source": [
    "f = open(\"data.txt\", \"r\")\n",
    "datastr = f.read()\n",
    "rucksacks = datastr.split(\"\\n\")\n",
    "\n",
    "lowercase_letters_str = \"abcdefghijklmnopqrstuvwxyz\"\n",
    "uppercase_letters_str = lowercase_letters_str.upper()\n",
    "all_letters = (lowercase_letters_str + uppercase_letters_str)\n",
    "\n",
    "def priority(letter):\n",
    "    for i in range(len(all_letters)):\n",
    "        if all_letters[i] == letter:\n",
    "            return i + 1\n",
    "    print(\"ERROR Priority\")\n",
    "    return\n",
    "\n",
    "def first_common_letter(str1, str2):\n",
    "    for a in str1:\n",
    "        for b in str2:\n",
    "            if a == b:\n",
    "                return a\n",
    "    return \"ERROR fcl\"\n",
    "\n",
    "\n",
    "tot = 0\n",
    "for r in rucksacks:\n",
    "    split_index = int(len(r)/2)\n",
    "    part1 = r[:split_index]\n",
    "    part2 = r[split_index:]\n",
    "    unique = first_common_letter(part1, part2)\n",
    "    tot += priority(unique)\n",
    "print(f\"First star answer: {tot}\")\n"
   ]
  },
  {
   "cell_type": "code",
   "execution_count": null,
   "metadata": {},
   "outputs": [],
   "source": [
    "def only_common_letter(str1, str2, str3):\n",
    "    for a in str1:\n",
    "        for b in str2:\n",
    "            for c in str3:\n",
    "                if a == b and b == c:\n",
    "                    return a\n",
    "    return \"ERROR ocl\""
   ]
  },
  {
   "cell_type": "code",
   "execution_count": null,
   "metadata": {},
   "outputs": [],
   "source": [
    "number_of_groups = int(len(rucksacks)/3)\n",
    "\n",
    "tot = 0\n",
    "for i in range(0, number_of_groups):\n",
    "    r1 = rucksacks[3*i]\n",
    "    r2 = rucksacks[3*i+1]\n",
    "    r3 = rucksacks[3*i+2]\n",
    "    unique = only_common_letter(r1, r2, r3)\n",
    "    tot += priority(unique)\n",
    "print(f\"Second star answer: {tot}\")\n",
    "    "
   ]
  }
 ],
 "metadata": {
  "language_info": {
   "codemirror_mode": {
    "name": "ipython"
   },
   "file_extension": ".py",
   "mimetype": "text/x-python",
   "name": "python",
   "nbconvert_exporter": "python"
  },
  "vscode": {
   "interpreter": {
    "hash": "3322777fd1eb80d56631ff78795b66dccdf92205c0d7d33b33006785ae206b86"
   }
  }
 },
 "nbformat": 4,
 "nbformat_minor": 2
}

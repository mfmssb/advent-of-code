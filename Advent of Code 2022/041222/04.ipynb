{
 "cells": [
  {
   "cell_type": "code",
   "execution_count": null,
   "metadata": {},
   "outputs": [],
   "source": [
    "f = open(\"data.txt\", \"r\")\n",
    "datastr = f.read()\n",
    "interval_pairs = datastr.split(\"\\n\")\n",
    "\n",
    "def split_string_pair(string_pair):\n",
    "    list_pair = string_pair.split(\",\")\n",
    "    interval1 = list_pair[0]\n",
    "    interval2 = list_pair[1]\n",
    "    \n",
    "    min1 = int(interval1.split(\"-\")[0])\n",
    "    max1 = int(interval1.split(\"-\")[1])\n",
    "    min2 = int(interval2.split(\"-\")[0])\n",
    "    max2 = int(interval2.split(\"-\")[1])\n",
    "\n",
    "    return (min1, max1, min2, max2)\n",
    "\n",
    "def is_fully_contained(string_pair):\n",
    "\n",
    "    (min1, max1, min2, max2) = split_string_pair(string_pair)\n",
    "   \n",
    "    if min1 <= min2 and max1 >= max2:\n",
    "        return True\n",
    "    if min2 <= min1 and max2 >= max1:\n",
    "        return True\n",
    "    return False"
   ]
  },
  {
   "cell_type": "code",
   "execution_count": null,
   "metadata": {},
   "outputs": [],
   "source": [
    "tot = 0\n",
    "for pair in interval_pairs:\n",
    "    if is_fully_contained(pair):\n",
    "        tot += 1\n",
    "    # print(pair, is_fully_contained(pair))\n",
    "print(f'Number of assignment pairs where one is fully containing the other: {tot}')\n"
   ]
  },
  {
   "cell_type": "code",
   "execution_count": null,
   "metadata": {},
   "outputs": [],
   "source": [
    "def is_overlapping(string_pair):\n",
    "    (min1, max1, min2, max2) = split_string_pair(string_pair)\n",
    "   \n",
    "    # Lettere å se på negasjonen av ikke-overlapp\n",
    "    if not (max1 < min2 or max2 < min1): \n",
    "        return True\n",
    "    return False\n",
    "tot = 0\n",
    "for pair in interval_pairs:\n",
    "    if is_overlapping(pair):\n",
    "        tot += 1\n",
    "    # print(pair, is_overlapping(pair))\n",
    "print(f'Number of assignment pairs where one is overlapping the other: {tot}')"
   ]
  }
 ],
 "metadata": {
  "kernelspec": {
   "display_name": "Python 3.11.0 64-bit",
   "language": "python",
   "name": "python3"
  },
  "language_info": {
   "codemirror_mode": {
    "name": "ipython",
    "version": 3
   },
   "file_extension": ".py",
   "mimetype": "text/x-python",
   "name": "python",
   "nbconvert_exporter": "python",
   "pygments_lexer": "ipython3",
   "version": "3.11.0"
  },
  "orig_nbformat": 4,
  "vscode": {
   "interpreter": {
    "hash": "3322777fd1eb80d56631ff78795b66dccdf92205c0d7d33b33006785ae206b86"
   }
  }
 },
 "nbformat": 4,
 "nbformat_minor": 2
}
